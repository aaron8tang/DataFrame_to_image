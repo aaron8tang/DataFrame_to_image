{
 "cells": [
  {
   "cell_type": "code",
   "execution_count": 1,
   "metadata": {},
   "outputs": [],
   "source": [
    "import random\n",
    "import imgkit\n",
    "import pandas\n",
    "import os"
   ]
  },
  {
   "cell_type": "code",
   "execution_count": 8,
   "metadata": {},
   "outputs": [],
   "source": [
    "data = pandas.read_csv(open(\"biostats.csv\", \"r\")) # Load a pandas dataframe. Here I'm doing it from a CSV\n",
    "\n",
    "## Enter your css for the table.\n",
    "css = \"\"\"\n",
    "<style type=\\\"text/css\\\">\n",
    "table {\n",
    "color: #333;\n",
    "font-family: Helvetica, Arial, sans-serif;\n",
    "width: 640px;\n",
    "border-collapse:\n",
    "collapse; \n",
    "border-spacing: 0;\n",
    "}\n",
    "\n",
    "td, th {\n",
    "border: 1px solid transparent; /* No more visible border */\n",
    "height: 30px;\n",
    "}\n",
    "\n",
    "th {\n",
    "background: #DFDFDF; /* Darken header a bit */\n",
    "font-weight: bold;\n",
    "}\n",
    "\n",
    "td {\n",
    "background: #FAFAFA;\n",
    "text-align: center;\n",
    "}\n",
    "\n",
    "table tr:nth-child(odd) td{\n",
    "background-color: white;\n",
    "}\n",
    "</style>\n",
    "\"\"\""
   ]
  },
  {
   "cell_type": "code",
   "execution_count": 35,
   "metadata": {},
   "outputs": [],
   "source": [
    "def DataFrame_to_image(data, css, outputfile=\"out.png\", format=\"png\"):\n",
    "    '''\n",
    "    For rendering a Pandas DataFrame as an image.\n",
    "    data: a pandas DataFrame\n",
    "    css: a string containing rules for styling the output table. This must \n",
    "         contain both the opening an closing <style> tags.\n",
    "    *outputimage: filename for saving of generated image\n",
    "    *format: output format, as supported by IMGKit. Default is \"png\"\n",
    "    '''\n",
    "    fn = str(random.random()*100000000).split(\".\")[0] + \".html\"\n",
    "    \n",
    "    try:\n",
    "        os.remove(fn)\n",
    "    except:\n",
    "        None\n",
    "    text_file = open(fn, \"a\")\n",
    "    \n",
    "    # write the CSS\n",
    "    text_file.write(css)\n",
    "    # write the HTML-ized Pandas DataFrame\n",
    "    text_file.write(data.to_html())\n",
    "    text_file.close()\n",
    "    \n",
    "    # See IMGKit options for full configuration,\n",
    "    # e.g. cropping of final image\n",
    "    imgkitoptions = {\"format\": format}\n",
    "    \n",
    "    imgkit.from_file(fn, outputfile, options=imgkitoptions)\n",
    "    os.remove(fn)"
   ]
  },
  {
   "cell_type": "code",
   "execution_count": 36,
   "metadata": {},
   "outputs": [
    {
     "name": "stdout",
     "output_type": "stream",
     "text": [
      "Gtk-Message: Failed to load module \"canberra-gtk-module\"\n",
      "Loading page (1/2)\n",
      "[>                                                           ] 0%\r",
      "[======>                                                     ] 10%\r",
      "[==============================>                             ] 50%\r",
      "[============================================================] 100%\r",
      "Rendering (2/2)                                                    \n",
      "[>                                                           ] 0%\r",
      "[===============>                                            ] 25%\r",
      "[============================================================] 100%\r",
      "Done                                                               \n"
     ]
    }
   ],
   "source": [
    "DataFrame_to_image(data, css)"
   ]
  }
 ],
 "metadata": {
  "kernelspec": {
   "display_name": "py3venv",
   "language": "python",
   "name": "py3venv"
  },
  "language_info": {
   "codemirror_mode": {
    "name": "ipython",
    "version": 3
   },
   "file_extension": ".py",
   "mimetype": "text/x-python",
   "name": "python",
   "nbconvert_exporter": "python",
   "pygments_lexer": "ipython3",
   "version": "3.6.3"
  }
 },
 "nbformat": 4,
 "nbformat_minor": 2
}
